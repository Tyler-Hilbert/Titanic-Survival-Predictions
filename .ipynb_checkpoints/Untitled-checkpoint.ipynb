{
 "cells": [
  {
   "cell_type": "code",
   "execution_count": 10,
   "metadata": {
    "collapsed": false
   },
   "outputs": [
    {
     "name": "stdout",
     "output_type": "stream",
     "text": [
      "Axes(0.125,0.125;0.775x0.775)\n",
      "24.00    15\n",
      "22.00    11\n",
      "27.00    11\n",
      "36.00    11\n",
      "35.00    11\n",
      "30.00    10\n",
      "32.00     9\n",
      "19.00     9\n",
      "18.00     9\n",
      "29.00     8\n",
      "31.00     8\n",
      "4.00      7\n",
      "28.00     7\n",
      "16.00     6\n",
      "34.00     6\n",
      "26.00     6\n",
      "25.00     6\n",
      "40.00     6\n",
      "42.00     6\n",
      "33.00     6\n",
      "17.00     6\n",
      "48.00     6\n",
      "38.00     5\n",
      "23.00     5\n",
      "1.00      5\n",
      "3.00      5\n",
      "45.00     5\n",
      "39.00     5\n",
      "21.00     5\n",
      "50.00     5\n",
      "         ..\n",
      "44.00     3\n",
      "54.00     3\n",
      "14.00     3\n",
      "52.00     3\n",
      "20.00     3\n",
      "9.00      2\n",
      "8.00      2\n",
      "6.00      2\n",
      "13.00     2\n",
      "0.75      2\n",
      "56.00     2\n",
      "60.00     2\n",
      "41.00     2\n",
      "0.83      2\n",
      "51.00     2\n",
      "63.00     2\n",
      "62.00     2\n",
      "0.92      1\n",
      "0.42      1\n",
      "80.00     1\n",
      "7.00      1\n",
      "32.50     1\n",
      "37.00     1\n",
      "11.00     1\n",
      "12.00     1\n",
      "55.00     1\n",
      "53.00     1\n",
      "47.00     1\n",
      "43.00     1\n",
      "0.67      1\n",
      "Name: Age, dtype: int64\n"
     ]
    },
    {
     "data": {
      "image/png": "[encoded data removed]",
      "text/plain": [
       "<matplotlib.figure.Figure at 0x14eeb38c668>"
      ]
     },
     "metadata": {},
     "output_type": "display_data"
    }
   ],
   "source": [
    "import pandas as pd\n",
    "import matplotlib.pyplot as pt\n",
    "%matplotlib inline\n",
    "\n",
    "df = pd.read_csv(\"train.csv\")\n",
    "print (df['Age'].hist(bins=15))\n",
    "print(df.loc[df['Survived'] == 1]['Age'].value_counts().hist(bins=15))\n",
    "\n",
    "\n"
   ]
  },
  {
   "cell_type": "code",
   "execution_count": null,
   "metadata": {
    "collapsed": true
   },
   "outputs": [],
   "source": []
  },
  {
   "cell_type": "code",
   "execution_count": null,
   "metadata": {
    "collapsed": true
   },
   "outputs": [],
   "source": []
  },
  {
   "cell_type": "code",
   "execution_count": null,
   "metadata": {
    "collapsed": true
   },
   "outputs": [],
   "source": []
  }
 ],
 "metadata": {
  "anaconda-cloud": {},
  "kernelspec": {
   "display_name": "Python [default]",
   "language": "python",
   "name": "python3"
  },
  "language_info": {
   "codemirror_mode": {
    "name": "ipython",
    "version": 3
   },
   "file_extension": ".py",
   "mimetype": "text/x-python",
   "name": "python",
   "nbconvert_exporter": "python",
   "pygments_lexer": "ipython3",
   "version": "3.5.2"
  }
 },
 "nbformat": 4,
 "nbformat_minor": 1
}
